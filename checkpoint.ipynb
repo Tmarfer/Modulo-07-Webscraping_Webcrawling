{
 "cells": [
  {
   "cell_type": "markdown",
   "metadata": {},
   "source": [
    "<body>\n",
    "    <div>\n",
    "        <h2>Exemplo de uma tabela</h2>\n",
    "        <table>\n",
    "            <tr>\n",
    "                <th>Nome</th>\n",
    "                <th>Sobrenome</th>\n",
    "                <th>Idade</th>                \n",
    "            </tr>\n",
    "            <tr>\n",
    "                <td>Jill</td>\n",
    "                <td>Smith</td>\n",
    "                <td>50</td>                \n",
    "            </tr>\n",
    "            <tr>\n",
    "                <td>Eve</td>\n",
    "                <td>Jackson</td>\n",
    "                <td>94</td>                \n",
    "            </tr>\n",
    "        </table>\n",
    "    </div>\n",
    "</body>\n",
    "\n"
   ]
  },
  {
   "cell_type": "code",
   "execution_count": null,
   "metadata": {},
   "outputs": [],
   "source": []
  }
 ],
 "metadata": {
  "kernelspec": {
   "display_name": "Python 3",
   "language": "python",
   "name": "python3"
  },
  "language_info": {
   "codemirror_mode": {
    "name": "ipython",
    "version": 3
   },
   "file_extension": ".py",
   "mimetype": "text/x-python",
   "name": "python",
   "nbconvert_exporter": "python",
   "pygments_lexer": "ipython3",
   "version": "3.10.0"
  }
 },
 "nbformat": 4,
 "nbformat_minor": 2
}
